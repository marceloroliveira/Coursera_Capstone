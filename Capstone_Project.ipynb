{
 "cells": [
  {
   "cell_type": "markdown",
   "metadata": {},
   "source": [
    "# Applied Data Science Capstone Project"
   ]
  },
  {
   "cell_type": "markdown",
   "metadata": {},
   "source": [
    "# Which is the best neighborhood in NYC to run my new coffee shop ?"
   ]
  },
  {
   "cell_type": "markdown",
   "metadata": {},
   "source": [
    "The main objective of this project is to create a solution that get location data from New York City and find some recommendation of where are the best places to run a new coffee shop, according to density of business, visitation in the area and users rating for this categories in the neighborhoods."
   ]
  },
  {
   "cell_type": "markdown",
   "metadata": {},
   "source": [
    "## Table of Contents\n",
    "\n",
    "1. [Download and Prepare Dataset](#item1)<br>\n",
    "2. [Explore Neighborhoods in New York City](#item2)<br>\n",
    "3. [Predicting the best Neighborhood](#item3)<br>"
   ]
  },
  {
   "cell_type": "code",
   "execution_count": null,
   "metadata": {},
   "outputs": [],
   "source": [
    "import numpy as np # library to handle data in a vectorized manner\n",
    "\n",
    "import pandas as pd # library for data analsysis\n",
    "pd.set_option('display.max_columns', None)\n",
    "pd.set_option('display.max_rows', None)\n",
    "\n",
    "import json # library to handle JSON files\n",
    "\n",
    "#!conda install -c conda-forge geopy --yes # uncomment this line if you haven't completed the Foursquare API lab\n",
    "from geopy.geocoders import Nominatim # convert an address into latitude and longitude values\n",
    "\n",
    "import requests # library to handle requests\n",
    "from pandas.io.json import json_normalize # tranform JSON file into a pandas dataframe\n",
    "\n",
    "# Matplotlib and associated plotting modules\n",
    "from mpl_toolkits import mplot3d\n",
    "\n",
    "import matplotlib.cm as cm\n",
    "import matplotlib.colors as colors\n",
    "import matplotlib as mpl\n",
    "import matplotlib.pyplot as plt\n",
    "\n",
    "%matplotlib inline \n",
    "\n",
    "# import k-Nearest Neighborhood\n",
    "from sklearn.neighbors import KNeighborsClassifier\n",
    "\n",
    "#!conda install -c conda-forge folium=0.5.0 --yes # uncomment this line if you haven't completed the Foursquare API lab\n",
    "import folium # map rendering library\n",
    "\n",
    "print('Libraries imported.')"
   ]
  },
  {
   "cell_type": "code",
   "execution_count": null,
   "metadata": {},
   "outputs": [],
   "source": [
    "!conda install -c conda-forge plotly --yes"
   ]
  },
  {
   "cell_type": "markdown",
   "metadata": {},
   "source": [
    "You will need a account on Plotly website in order to run it. Go to https://plot.ly"
   ]
  },
  {
   "cell_type": "code",
   "execution_count": null,
   "metadata": {},
   "outputs": [],
   "source": [
    "# Plotly for interactive 3D plots\n",
    "import plotly\n",
    "import plotly.graph_objs as go\n",
    "from plotly.offline import download_plotlyjs, init_notebook_mode, plot, iplot\n",
    "\n",
    "# Configure Plotly to be rendered inline in the notebook.\n",
    "# Uncomment the following line and fill with plotly credentials\n",
    "# plotly.tools.set_credentials_file(username=<YOUR_USERNAME_HERE>, api_key=<YOUR_API_KEY_HERE>)"
   ]
  },
  {
   "cell_type": "markdown",
   "metadata": {},
   "source": [
    "<a name=\"item1\"><h2>1. Download and Prepare Data</h2></a>"
   ]
  },
  {
   "cell_type": "markdown",
   "metadata": {},
   "source": [
    "I have downloaded the dataset from the link: https://geo.nyu.edu/catalog/nyu_2451_34572 and uploaded it to data folder my environment on Cognitive Labs."
   ]
  },
  {
   "cell_type": "markdown",
   "metadata": {},
   "source": [
    "#### Load and explore the data\n",
    "Next, let's load the data."
   ]
  },
  {
   "cell_type": "code",
   "execution_count": null,
   "metadata": {},
   "outputs": [],
   "source": [
    "with open('data/newyork_data.json') as json_data:\n",
    "    newyork_data = json.load(json_data)"
   ]
  },
  {
   "cell_type": "code",
   "execution_count": null,
   "metadata": {},
   "outputs": [],
   "source": [
    "# Relevant data is in Feature key\n",
    "neighborhoods_data = newyork_data['features']"
   ]
  },
  {
   "cell_type": "markdown",
   "metadata": {},
   "source": [
    "#### Transform the data into a *pandas* dataframe\n",
    "The next task is essentially transforming this data of nested Python dictionaries into a *pandas* dataframe. So let's start by creating an empty dataframe."
   ]
  },
  {
   "cell_type": "code",
   "execution_count": null,
   "metadata": {},
   "outputs": [],
   "source": [
    "# define the dataframe columns\n",
    "column_names = ['Borough', 'Neighborhood', 'Latitude', 'Longitude'] \n",
    "\n",
    "# instantiate the dataframe\n",
    "neighborhoods = pd.DataFrame(columns=column_names)"
   ]
  },
  {
   "cell_type": "code",
   "execution_count": null,
   "metadata": {},
   "outputs": [],
   "source": [
    "# Then let's loop through the data and fill the dataframe one row at a time.\n",
    "\n",
    "for data in neighborhoods_data:\n",
    "    borough = neighborhood_name = data['properties']['borough'] \n",
    "    neighborhood_name = data['properties']['name']\n",
    "        \n",
    "    neighborhood_latlon = data['geometry']['coordinates']\n",
    "    neighborhood_lat = neighborhood_latlon[1]\n",
    "    neighborhood_lon = neighborhood_latlon[0]\n",
    "    \n",
    "    neighborhoods = neighborhoods.append({'Borough': borough,\n",
    "                                          'Neighborhood': neighborhood_name,\n",
    "                                          'Latitude': neighborhood_lat,\n",
    "                                          'Longitude': neighborhood_lon}, ignore_index=True)"
   ]
  },
  {
   "cell_type": "markdown",
   "metadata": {},
   "source": [
    "#### **I HAVE RUN OUT MY CALLS ON FREE FOURSQUARE API, SO NOW I GET SOME HELP FROM GOOGLE PLACES API, USING A FREE GOOGLE CLOUD ACCOUNT**"
   ]
  },
  {
   "cell_type": "markdown",
   "metadata": {},
   "source": [
    "I am getting all data needed for the purpose of this notebook and i will make them available as .csv files."
   ]
  },
  {
   "cell_type": "markdown",
   "metadata": {},
   "source": [
    "### Search for a specific venue category\n",
    "> `https://maps.googleapis.com/maps/api/place/nearbysearch/json?location=`**LAT, LNG**`&radius=`**RADIUS**`&type=`**TYPE**`&key=`**YOUR_API_KEY**"
   ]
  },
  {
   "cell_type": "markdown",
   "metadata": {},
   "source": [
    "#### ...Let´s try a search for cafes on the center of New York City"
   ]
  },
  {
   "cell_type": "code",
   "execution_count": null,
   "metadata": {},
   "outputs": [],
   "source": [
    "lat=40.7308619\n",
    "lng=-73.9871558\n",
    "RADIUS=500\n",
    "TYPE='cafe'\n",
    "YOUR_API_KEY='<YOUR API KEY>'"
   ]
  },
  {
   "cell_type": "markdown",
   "metadata": {},
   "source": [
    "Test the API ..."
   ]
  },
  {
   "cell_type": "code",
   "execution_count": null,
   "metadata": {},
   "outputs": [],
   "source": [
    "url = 'https://maps.googleapis.com/maps/api/place/nearbysearch/json?location={},{}&radius={}&type={}&key={}'.format(\n",
    "        lat,\n",
    "        lng,\n",
    "        RADIUS,\n",
    "        TYPE,\n",
    "        YOUR_API_KEY)\n",
    "url"
   ]
  },
  {
   "cell_type": "code",
   "execution_count": null,
   "metadata": {},
   "outputs": [],
   "source": [
    "response = requests.get(url).json()\n",
    "results = response['results']"
   ]
  },
  {
   "cell_type": "code",
   "execution_count": null,
   "metadata": {},
   "outputs": [],
   "source": [
    "response"
   ]
  },
  {
   "cell_type": "markdown",
   "metadata": {},
   "source": [
    "If there is *next_page_token* key, then we can used that to get next 20 results. It is possible get a third page and a maximum of 60 results per call"
   ]
  },
  {
   "cell_type": "markdown",
   "metadata": {},
   "source": [
    "**If we get a second page**...\n",
    "<br>\n",
    "if 'next_page_token' in response:<br>\n",
    ">    url2 = url + '&pagetoken=' + response['next_page_token']<br>\n",
    ">    response2 = requests.get(url2).json()<br>\n",
    ">    results2 = response2['results']<br>\n",
    "<br>\n",
    ">    **If we get a third page**...\n",
    "<br>\n",
    ">    if 'next_page_token' in response2:<br>\n",
    ">>        url3 = url + '&pagetoken=' + response2['next_page_token']\n",
    ">>        response3 = requests.get(url3).json()\n",
    ">>        results3 = response3['results']"
   ]
  },
  {
   "cell_type": "markdown",
   "metadata": {},
   "source": [
    "<a name=\"item2\"><h2>2. Explore Neighborhoods in NYC</h2></a>"
   ]
  },
  {
   "cell_type": "markdown",
   "metadata": {},
   "source": [
    "#### Let's create a function to repeat the same process to all the neighborhoods in NYC"
   ]
  },
  {
   "cell_type": "code",
   "execution_count": null,
   "metadata": {},
   "outputs": [],
   "source": [
    "def getNearbyVenues(names, latitudes, longitudes, radius, query, next_page_list):\n",
    "    \n",
    "    venues_list=[]\n",
    "    for name, lat, lng in zip(names, latitudes, longitudes):\n",
    "        print(name)\n",
    "            \n",
    "        # create the API request URL\n",
    "        url = 'https://maps.googleapis.com/maps/api/place/nearbysearch/json?location={},{}&radius={}&type={}&key={}'.format(\n",
    "            lat,\n",
    "            lng,\n",
    "            RADIUS,\n",
    "            TYPE,\n",
    "            YOUR_API_KEY)\n",
    "\n",
    "        try:\n",
    "            response = requests.get(url).json()\n",
    "            results = response['results']\n",
    "            \n",
    "            for v in results:\n",
    "                venues_list.append([\n",
    "                    name, \n",
    "                    lat,\n",
    "                    lng,\n",
    "                    v['name'], \n",
    "                    v['geometry']['location']['lat'], \n",
    "                    v['geometry']['location']['lng'],  \n",
    "                    v['rating'], \n",
    "                    v['user_ratings_total'],  \n",
    "                    ])\n",
    "                \n",
    "            if 'next_page_token' in response:\n",
    "                next_page_list.append([name, lat, lng, url + '&pagetoken=' + response['next_page_token']])\n",
    "\n",
    "        except:\n",
    "            pass\n",
    "\n",
    "    nearby_venues = pd.DataFrame(venues_list, columns=[\n",
    "                        'Neighborhood', \n",
    "                        'Neighborhood Latitude', \n",
    "                        'Neighborhood Longitude', \n",
    "                        'Venue', \n",
    "                        'Venue Latitude', \n",
    "                        'Venue Longitude', \n",
    "                        'Venue Rating',\n",
    "                        'Venue Ratings total'])\n",
    "\n",
    "    \n",
    "    return(nearby_venues)"
   ]
  },
  {
   "cell_type": "markdown",
   "metadata": {},
   "source": [
    "Let´s create a function to get *page 2* venues ..."
   ]
  },
  {
   "cell_type": "code",
   "execution_count": null,
   "metadata": {},
   "outputs": [],
   "source": [
    "def getNearbyVenues2(next_page_list, page3):\n",
    "    \n",
    "    venues_list=[]\n",
    "    \n",
    "    for next_page in next_page_list:\n",
    "        try:\n",
    "            url = next_page[3]\n",
    "            response = requests.get(url).json()\n",
    "            results = response['results']\n",
    "            print(next_page[0])\n",
    "        \n",
    "            for v in results:\n",
    "                venues_list.append([\n",
    "                    next_page[0], \n",
    "                    next_page[1],\n",
    "                    next_page[2],\n",
    "                    v['name'], \n",
    "                    v['geometry']['location']['lat'], \n",
    "                    v['geometry']['location']['lng'],  \n",
    "                    v['rating'], \n",
    "                    v['user_ratings_total'],  \n",
    "                    ])\n",
    "\n",
    "            if 'next_page_token' in response:\n",
    "                page3.append([next_page[0], next_page[1], next_page[2], url + '&pagetoken=' + response['next_page_token']])\n",
    "          \n",
    "        except:\n",
    "            pass\n",
    "        \n",
    "    nearby_venues = pd.DataFrame(venues_list, columns=[\n",
    "                        'Neighborhood', \n",
    "                        'Neighborhood Latitude', \n",
    "                        'Neighborhood Longitude', \n",
    "                        'Venue', \n",
    "                        'Venue Latitude', \n",
    "                        'Venue Longitude', \n",
    "                        'Venue Rating',\n",
    "                        'Venue Ratings total'])\n",
    "   \n",
    "    return(nearby_venues)"
   ]
  },
  {
   "cell_type": "markdown",
   "metadata": {},
   "source": [
    "... and a function to *page 3* ..."
   ]
  },
  {
   "cell_type": "code",
   "execution_count": null,
   "metadata": {},
   "outputs": [],
   "source": [
    "def getNearbyVenues3(page3_list):\n",
    "    \n",
    "    venues_list=[]\n",
    "    \n",
    "    for next_page in page3_list:\n",
    "        try:\n",
    "            url = next_page[3]\n",
    "            response = requests.get(url).json()\n",
    "            results = response['results']\n",
    "            print(next_page[0])\n",
    "        \n",
    "            for v in results:\n",
    "                venues_list.append([\n",
    "                    next_page[0], \n",
    "                    next_page[1],\n",
    "                    next_page[2],\n",
    "                    v['name'], \n",
    "                    v['geometry']['location']['lat'], \n",
    "                    v['geometry']['location']['lng'],  \n",
    "                    v['rating'], \n",
    "                    v['user_ratings_total'],  \n",
    "                    ])\n",
    "          \n",
    "        except:\n",
    "            pass\n",
    "        \n",
    "    nearby_venues = pd.DataFrame(venues_list, columns=[\n",
    "                        'Neighborhood', \n",
    "                        'Neighborhood Latitude', \n",
    "                        'Neighborhood Longitude', \n",
    "                        'Venue', \n",
    "                        'Venue Latitude', \n",
    "                        'Venue Longitude', \n",
    "                        'Venue Rating',\n",
    "                        'Venue Ratings total'])\n",
    "   \n",
    "    return(nearby_venues)"
   ]
  },
  {
   "cell_type": "code",
   "execution_count": null,
   "metadata": {},
   "outputs": [],
   "source": [
    "# Uncomment this cell for the first time\n",
    "# page2_venues=[]\n",
    "# newyork_venues = getNearbyVenues(names=neighborhoods['Neighborhood'],\n",
    "#                                     latitudes=neighborhoods['Latitude'],\n",
    "#                                     longitudes=neighborhoods['Longitude'],\n",
    "#                                     radius=RADIUS,\n",
    "#                                     query=TYPE,\n",
    "#                                     next_page_list=page2_venues\n",
    "#                                )\n",
    "# newyork_venues.shape"
   ]
  },
  {
   "cell_type": "markdown",
   "metadata": {},
   "source": [
    "If you have saved your newyork_venues dataframe, you now can read it ..."
   ]
  },
  {
   "cell_type": "code",
   "execution_count": null,
   "metadata": {},
   "outputs": [],
   "source": [
    "# newyork_venues = pd.DataFrame(columns=['Neighborhood', \n",
    "#                   'Neighborhood Latitude', \n",
    "#                   'Neighborhood Longitude', \n",
    "#                   'Venue', \n",
    "#                   'Venue Latitude', \n",
    "#                   'Venue Longitude', \n",
    "#                   'Venue Rating',\n",
    "#                   'Venue Ratings total'])\n",
    "# newyork_venues = pd.read_csv('data/newyork_venues.csv')\n",
    "# newyork_venues.shape"
   ]
  },
  {
   "cell_type": "markdown",
   "metadata": {},
   "source": [
    "Google Places API allows up to 60 venues per Nearby search. Now we will run a function to get venues for neighborhoods that have *next_page_token* ..."
   ]
  },
  {
   "cell_type": "code",
   "execution_count": null,
   "metadata": {},
   "outputs": [],
   "source": [
    "page3=[]\n",
    "newyork_venues2 = getNearbyVenues2(next_page_list=page2_venues, page3=page3)"
   ]
  },
  {
   "cell_type": "code",
   "execution_count": null,
   "metadata": {},
   "outputs": [],
   "source": [
    "newyork_venues2.shape"
   ]
  },
  {
   "cell_type": "code",
   "execution_count": null,
   "metadata": {},
   "outputs": [],
   "source": [
    "newyork_venues3 = getNearbyVenues3(page3_list=page3)"
   ]
  },
  {
   "cell_type": "code",
   "execution_count": null,
   "metadata": {},
   "outputs": [],
   "source": [
    "newyork_venues3.shape"
   ]
  },
  {
   "cell_type": "markdown",
   "metadata": {},
   "source": [
    "Concatenating dataframe newyork_venues and newyork_venues2 and newyork_venues3"
   ]
  },
  {
   "cell_type": "code",
   "execution_count": null,
   "metadata": {},
   "outputs": [],
   "source": [
    "frame = [newyork_venues, newyork_venues2, newyork_venues3]"
   ]
  },
  {
   "cell_type": "code",
   "execution_count": null,
   "metadata": {},
   "outputs": [],
   "source": [
    "newyork_cafes = pd.concat(frame)"
   ]
  },
  {
   "cell_type": "code",
   "execution_count": null,
   "metadata": {},
   "outputs": [],
   "source": [
    "newyork_cafes.shape"
   ]
  },
  {
   "cell_type": "code",
   "execution_count": null,
   "metadata": {},
   "outputs": [],
   "source": [
    "newyork_cafes = pd.read_csv('data/newyork_cafes.csv')\n",
    "newyork_cafes.head()"
   ]
  },
  {
   "cell_type": "markdown",
   "metadata": {},
   "source": [
    "### Exploratory data analysis"
   ]
  },
  {
   "cell_type": "markdown",
   "metadata": {},
   "source": [
    "Let´s get initial insights about our data. Let´s generate a histogram for Average venue rating and another for Venue Ratings Total."
   ]
  },
  {
   "cell_type": "code",
   "execution_count": null,
   "metadata": {},
   "outputs": [],
   "source": [
    "newyork_cafes[['Venue Rating']].plot(kind='hist', figsize=(8, 5), bins=50)\n",
    "\n",
    "plt.title('Distribution of average ratings') # add a title to the histogram\n",
    "plt.ylabel('Number of Cafes') # add y-label\n",
    "plt.xlabel('Average ratings') # add x-label\n",
    "\n",
    "plt.show()"
   ]
  },
  {
   "cell_type": "code",
   "execution_count": null,
   "metadata": {},
   "outputs": [],
   "source": [
    "newyork_cafes[['Venue Ratings total']].plot(kind='hist', figsize=(8, 5), bins=50)\n",
    "\n",
    "plt.title('Distribution of number of ratings') # add a title to the histogram\n",
    "plt.ylabel('Number of Cafes') # add y-label\n",
    "plt.xlabel('# of ratings') # add x-label\n",
    "\n",
    "plt.show()"
   ]
  },
  {
   "cell_type": "code",
   "execution_count": null,
   "metadata": {},
   "outputs": [],
   "source": [
    "newyork_cafes['Weighted Rating'] = newyork_cafes['Venue Rating'] * newyork_cafes['Venue Ratings total']"
   ]
  },
  {
   "cell_type": "code",
   "execution_count": null,
   "metadata": {},
   "outputs": [],
   "source": [
    "venue_count = newyork_cafes.groupby(['Neighborhood']).count()"
   ]
  },
  {
   "cell_type": "code",
   "execution_count": null,
   "metadata": {},
   "outputs": [],
   "source": [
    "venue_count.drop(columns=['Neighborhood Latitude', 'Neighborhood Longitude',\n",
    "       'Venue Latitude', 'Venue Longitude', 'Venue Rating',\n",
    "       'Venue Ratings total', 'Weighted Rating'], inplace=True)\n",
    "venue_count.head()"
   ]
  },
  {
   "cell_type": "code",
   "execution_count": null,
   "metadata": {},
   "outputs": [],
   "source": [
    "venue_count = venue_count.rename(index=str, columns={'Venue':'VENUE_COUNT'})\n",
    "venue_count.head()"
   ]
  },
  {
   "cell_type": "code",
   "execution_count": null,
   "metadata": {},
   "outputs": [],
   "source": [
    "s = newyork_cafes.groupby(['Neighborhood'])['Venue Ratings total'].sum(level=0)\n",
    "user_count = pd.DataFrame(s)\n",
    "user_count.head()"
   ]
  },
  {
   "cell_type": "code",
   "execution_count": null,
   "metadata": {},
   "outputs": [],
   "source": [
    "user_count = user_count.rename(index=str, columns={'Venue Ratings total':'USER_COUNT'})\n",
    "user_count.head()"
   ]
  },
  {
   "cell_type": "code",
   "execution_count": null,
   "metadata": {},
   "outputs": [],
   "source": [
    "c = newyork_cafes.groupby(['Neighborhood'])['Weighted Rating'].sum(level=0)\n",
    "category_avg = pd.DataFrame(c)\n",
    "category_avg.head()"
   ]
  },
  {
   "cell_type": "code",
   "execution_count": null,
   "metadata": {},
   "outputs": [],
   "source": [
    "category_avg = category_avg.merge(user_count, left_index=True, right_index=True)\n",
    "category_avg.head()"
   ]
  },
  {
   "cell_type": "code",
   "execution_count": null,
   "metadata": {},
   "outputs": [],
   "source": [
    "category_avg['CATEGORY_AVG'] = category_avg['Weighted Rating']/category_avg['USER_COUNT']\n",
    "category_avg.head()"
   ]
  },
  {
   "cell_type": "code",
   "execution_count": null,
   "metadata": {},
   "outputs": [],
   "source": [
    "category_avg.drop(columns=['Weighted Rating', 'USER_COUNT'], inplace=True)\n",
    "category_avg.head()"
   ]
  },
  {
   "cell_type": "code",
   "execution_count": null,
   "metadata": {},
   "outputs": [],
   "source": [
    "neighborhood_venues = venue_count.merge(user_count, left_index=True, right_index=True)\n",
    "neighborhood_venues.head()"
   ]
  },
  {
   "cell_type": "code",
   "execution_count": null,
   "metadata": {},
   "outputs": [],
   "source": [
    "neighborhood_venues = neighborhood_venues.merge(category_avg, left_index=True, right_index=True)\n",
    "neighborhood_venues.head()"
   ]
  },
  {
   "cell_type": "code",
   "execution_count": null,
   "metadata": {},
   "outputs": [],
   "source": [
    "neighborhood_venues = pd.read_csv('data/neighborhood_venues.csv')\n",
    "neighborhood_venues.head()"
   ]
  },
  {
   "cell_type": "code",
   "execution_count": null,
   "metadata": {},
   "outputs": [],
   "source": [
    "print(neighborhood_venues['CATEGORY_AVG'].min())"
   ]
  },
  {
   "cell_type": "markdown",
   "metadata": {},
   "source": [
    "Let´s analyze now the data aggregated by neighborhoods...\n",
    "Let´s plot a histogram of each of our variable: VENUE_COUNT, USER_COUNT and CATEGORY_AVG."
   ]
  },
  {
   "cell_type": "code",
   "execution_count": null,
   "metadata": {},
   "outputs": [],
   "source": [
    "neighborhood_venues[['VENUE_COUNT']].plot(kind='hist', bins=60, figsize=(8, 5))\n",
    "\n",
    "plt.title('Distribution of # of cafes by neighborhood') # add a title to the histogram\n",
    "plt.ylabel('Neighborhoods') # add y-label\n",
    "plt.xlabel('Number of Cafes') # add x-label\n",
    "\n",
    "plt.show()"
   ]
  },
  {
   "cell_type": "code",
   "execution_count": null,
   "metadata": {},
   "outputs": [],
   "source": [
    "neighborhood_venues[['USER_COUNT']].plot(kind='hist', bins=200, figsize=(8, 5))\n",
    "\n",
    "plt.title('Distribution of # of users by neighborhood') # add a title to the histogram\n",
    "plt.ylabel('Neighborhoods') # add y-label\n",
    "plt.xlabel('Number of users') # add x-label\n",
    "\n",
    "plt.show()"
   ]
  },
  {
   "cell_type": "code",
   "execution_count": null,
   "metadata": {},
   "outputs": [],
   "source": [
    "neighborhood_venues[['CATEGORY_AVG']].plot(kind='hist', bins=50, figsize=(8, 5))\n",
    "\n",
    "plt.title('Distribution of average category ratings by neighborhood') # add a title to the histogram\n",
    "plt.ylabel('Neighborhoods') # add y-label\n",
    "plt.xlabel('Average category ratings') # add x-label\n",
    "\n",
    "plt.show()"
   ]
  },
  {
   "cell_type": "markdown",
   "metadata": {},
   "source": [
    "We see summary statistics of our final dataframe ..."
   ]
  },
  {
   "cell_type": "code",
   "execution_count": null,
   "metadata": {},
   "outputs": [],
   "source": [
    "neighborhood_venues.describe()"
   ]
  },
  {
   "cell_type": "markdown",
   "metadata": {},
   "source": [
    "<a name=\"item3\"><h2>3. Predicting the best neighborhood</h2></a>"
   ]
  },
  {
   "cell_type": "markdown",
   "metadata": {
    "button": false,
    "new_sheet": false,
    "run_control": {
     "read_only": false
    }
   },
   "source": [
    "Now let's normalize the dataset. We will divide by maximum value to normalize our dataset to [*minimum value*, 1] interval."
   ]
  },
  {
   "cell_type": "code",
   "execution_count": null,
   "metadata": {},
   "outputs": [],
   "source": [
    "X_unscaled = neighborhood_venues[['VENUE_COUNT', 'USER_COUNT', 'CATEGORY_AVG']].values"
   ]
  },
  {
   "cell_type": "code",
   "execution_count": null,
   "metadata": {},
   "outputs": [],
   "source": [
    "X=X_unscaled\n",
    "X[:,0] = X_unscaled[:,0]/X_unscaled[:,0].max()\n",
    "X[:,1] = X_unscaled[:,1]/X_unscaled[:,1].max()\n",
    "X[:,2] = X_unscaled[:,2]/X_unscaled[:,2].max()"
   ]
  },
  {
   "cell_type": "markdown",
   "metadata": {},
   "source": [
    "... and in order to have our response predicted, we need change our neighborhood labels by numbers ..."
   ]
  },
  {
   "cell_type": "code",
   "execution_count": null,
   "metadata": {},
   "outputs": [],
   "source": [
    "y = np.array(neighborhood_venues.index)"
   ]
  },
  {
   "cell_type": "code",
   "execution_count": null,
   "metadata": {},
   "outputs": [],
   "source": [
    "# Helper function to define colors to data points\n",
    "def get_rgb(array3D):\n",
    "    x_max = array3D[:,0].max()\n",
    "    y_max = array3D[:,1].max()\n",
    "    z_max = array3D[:,2].max()\n",
    "    rgb_color = []\n",
    "    r = 0\n",
    "    g = 0\n",
    "    b = 0\n",
    "    for v in array3D:\n",
    "        scale_r = lambda x: 255 if x * 1000/y_max > 255 else x * 1000/y_max\n",
    "        r = scale_r(v[1])\n",
    "        g = v[0]*255/x_max\n",
    "        scale_b = lambda x: 0 if round(x - 0.745*z_max, 3) * 950/z_max < 0 else round(x - 0.745*z_max, 3) * 950/z_max\n",
    "        b = scale_b(v[2])\n",
    "        rgb_color.append('rgb(' + str(int(r)) + ',' + str(int(g)) + ',' + str(int(b)) + ')')\n",
    "    return(rgb_color)"
   ]
  },
  {
   "cell_type": "code",
   "execution_count": null,
   "metadata": {},
   "outputs": [],
   "source": [
    "Points = X\n",
    "\n",
    "# Append our target point to be plot on chart\n",
    "Points = np.append(Points, [[0,1,0]], axis=0)\n",
    "\n",
    "labels = neighborhood_venues['Neighborhood']\n",
    "labels = labels.append(pd.Series(['Target point']), ignore_index=True)\n",
    "colors = get_rgb(Points)"
   ]
  },
  {
   "cell_type": "code",
   "execution_count": null,
   "metadata": {},
   "outputs": [],
   "source": [
    "# Configure the trace.\n",
    "trace = go.Scatter3d(\n",
    "    x=Points[:,0],  # <-- Put your data instead\n",
    "    y=Points[:,1],  # <-- Put your data instead\n",
    "    z=Points[:,2],  # <-- Put your data instead\n",
    "    text=labels,\n",
    "    mode='markers',\n",
    "    marker={\n",
    "        'size': 5,\n",
    "        'opacity': 0.8,\n",
    "        'color': colors\n",
    "    }\n",
    ")"
   ]
  },
  {
   "cell_type": "code",
   "execution_count": null,
   "metadata": {},
   "outputs": [],
   "source": [
    "# Configure the layout.\n",
    "layout = go.Layout(margin={'l': 0, 'r': 0, 'b': 0, 't': 0},\n",
    "                   scene = dict(\n",
    "                       xaxis = dict(title='VENUE_COUNT'),\n",
    "                       yaxis = dict(title='USER_COUNT'),\n",
    "                       zaxis = dict(title='CATEGORY_AVG')\n",
    "                                )\n",
    "                  )\n",
    "\n",
    "data = [trace]\n",
    "\n",
    "plot_figure = go.Figure(data=data, layout=layout)\n",
    "# Render the plot.\n",
    "plotly.plotly.iplot(plot_figure, filename='jupyter-scatter3D-plot1')"
   ]
  },
  {
   "cell_type": "markdown",
   "metadata": {},
   "source": [
    "Run K-Nearest Neighborhood with *k=1* to create one cluster for each neighborhood."
   ]
  },
  {
   "cell_type": "code",
   "execution_count": null,
   "metadata": {},
   "outputs": [],
   "source": [
    "k=1\n",
    "\n",
    "# run k-Nearest Neighborhood classifier\n",
    "neigh1 = KNeighborsClassifier(\n",
    "            n_neighbors=k,\n",
    "            metric='euclidean',\n",
    "            algorithm='brute',\n",
    "            p=2\n",
    "            ).fit(X, y)\n",
    "\n",
    "# check cluster labels generated for each row in the dataframe\n",
    "neigh1"
   ]
  },
  {
   "cell_type": "markdown",
   "metadata": {
    "button": false,
    "new_sheet": false,
    "run_control": {
     "read_only": false
    }
   },
   "source": [
    "### Predicting\n",
    "We can use the model to predict the test set:<br>\n",
    "#### Explaining the values to be predicted ...<br>\n",
    "\n",
    "We want:<br>\n",
    "\n",
    "- The least # of venues as possible, so **VENUE_COUNT** => 0<br>\n",
    "- The most # of people as possible, so **USER_COUNT** => 1<br>\n",
    "- The least average of ratings as possible, so **CATEGORY_AVG** => 0<br>"
   ]
  },
  {
   "cell_type": "code",
   "execution_count": null,
   "metadata": {},
   "outputs": [],
   "source": [
    "X_test = np.array([[0, 1, 0]])\n",
    "yhat = neigh1.predict(X_test)\n",
    "yhat"
   ]
  },
  {
   "cell_type": "code",
   "execution_count": null,
   "metadata": {},
   "outputs": [],
   "source": [
    "neighborhood_venues.iloc[yhat[0]]"
   ]
  },
  {
   "cell_type": "markdown",
   "metadata": {},
   "source": [
    "**Flatiron** has few coffee shops and lots of people walking around !!!"
   ]
  },
  {
   "cell_type": "markdown",
   "metadata": {},
   "source": [
    "The variables are balanced, but if you think that one variable should be more relevant, you can recalculate it, multiplying by a suitable weight."
   ]
  },
  {
   "cell_type": "markdown",
   "metadata": {},
   "source": [
    "Making **USER_COUNT** more relevant than others ..."
   ]
  },
  {
   "cell_type": "code",
   "execution_count": null,
   "metadata": {},
   "outputs": [],
   "source": [
    "X[:,1] = X[:,1]*2"
   ]
  },
  {
   "cell_type": "code",
   "execution_count": null,
   "metadata": {},
   "outputs": [],
   "source": [
    "k=1\n",
    "\n",
    "# run k-Nearest Neighborhood classifier\n",
    "neigh1 = KNeighborsClassifier(\n",
    "            n_neighbors=k,\n",
    "            metric='euclidean',\n",
    "            algorithm='brute',\n",
    "            p=2\n",
    "            ).fit(X, y)\n",
    "\n",
    "# check cluster labels generated for each row in the dataframe\n",
    "neigh1"
   ]
  },
  {
   "cell_type": "code",
   "execution_count": null,
   "metadata": {},
   "outputs": [],
   "source": [
    "X_test = np.array([[0, 2, 0]])\n",
    "yhat = neigh1.predict(X_test)\n",
    "yhat"
   ]
  },
  {
   "cell_type": "code",
   "execution_count": null,
   "metadata": {},
   "outputs": [],
   "source": [
    "neighborhood_venues.iloc[yhat[0]]"
   ]
  },
  {
   "cell_type": "markdown",
   "metadata": {},
   "source": [
    "**Soho** has much more people than Flatiron, but much more coffee shops to !!!"
   ]
  },
  {
   "cell_type": "code",
   "execution_count": null,
   "metadata": {},
   "outputs": [],
   "source": [
    "Points = X\n",
    "\n",
    "# Append our target point to be plot on chart. Now the maximum y axis value is 2.\n",
    "Points = np.append(Points, [[0,2,0]], axis=0)\n",
    "\n",
    "labels = neighborhood_venues['Neighborhood']\n",
    "labels = labels.append(pd.Series(['Target point']), ignore_index=True)\n",
    "colors = get_rgb(Points)"
   ]
  },
  {
   "cell_type": "code",
   "execution_count": null,
   "metadata": {},
   "outputs": [],
   "source": [
    "# Configure the trace.\n",
    "trace = go.Scatter3d(\n",
    "    x=Points[:,0],  # <-- Put your data instead\n",
    "    y=Points[:,1],  # <-- Put your data instead\n",
    "    z=Points[:,2],  # <-- Put your data instead\n",
    "    text=labels,\n",
    "    mode='markers',\n",
    "    marker={\n",
    "        'size': 5,\n",
    "        'opacity': 0.8,\n",
    "        'color': colors\n",
    "    }\n",
    ")"
   ]
  },
  {
   "cell_type": "code",
   "execution_count": null,
   "metadata": {},
   "outputs": [],
   "source": [
    "# Configure the layout.\n",
    "layout = go.Layout(margin={'l': 0, 'r': 0, 'b': 0, 't': 0},\n",
    "                   scene = dict(\n",
    "                       xaxis = dict(title='VENUE_COUNT'),\n",
    "                       yaxis = dict(title='USER_COUNT'),\n",
    "                       zaxis = dict(title='CATEGORY_AVG')\n",
    "                                )\n",
    "                  )\n",
    "\n",
    "data = [trace]\n",
    "\n",
    "plot_figure = go.Figure(data=data, layout=layout)\n",
    "# Render the plot.\n",
    "plotly.plotly.iplot(plot_figure, filename='jupyter-scatter3D-plot2')"
   ]
  },
  {
   "cell_type": "markdown",
   "metadata": {},
   "source": [
    "Making **CATEGORY_AVG** more relevant ..."
   ]
  },
  {
   "cell_type": "code",
   "execution_count": null,
   "metadata": {},
   "outputs": [],
   "source": [
    "X[:,2] = X[:,2]*2"
   ]
  },
  {
   "cell_type": "code",
   "execution_count": null,
   "metadata": {},
   "outputs": [],
   "source": [
    "k=1\n",
    "\n",
    "# run k-Nearest Neighborhood classifier\n",
    "neigh1 = KNeighborsClassifier(\n",
    "            n_neighbors=k,\n",
    "            metric='euclidean',\n",
    "            algorithm='brute',\n",
    "            p=2\n",
    "            ).fit(X, y)\n",
    "\n",
    "# check cluster labels generated for each row in the dataframe\n",
    "neigh1"
   ]
  },
  {
   "cell_type": "code",
   "execution_count": null,
   "metadata": {},
   "outputs": [],
   "source": [
    "X_test = np.array([[0, 1, 0]]) # Maximum for USER_COUNT is 1 again.\n",
    "yhat = neigh1.predict(X_test)  #  CATEGORY_AVG remains 0\n",
    "yhat"
   ]
  },
  {
   "cell_type": "code",
   "execution_count": null,
   "metadata": {},
   "outputs": [],
   "source": [
    "neighborhood_venues.iloc[yhat[0]]"
   ]
  },
  {
   "cell_type": "markdown",
   "metadata": {},
   "source": [
    "**Travis** has one of the least average ratings for coffee shops "
   ]
  },
  {
   "cell_type": "code",
   "execution_count": null,
   "metadata": {},
   "outputs": [],
   "source": [
    "Points = X\n",
    "\n",
    "# Append our target point to be plot on chart. Now the maximum y axis value is 2.\n",
    "Points = np.append(Points, [[0,1,0]], axis=0)\n",
    "\n",
    "labels = neighborhood_venues['Neighborhood']\n",
    "labels = labels.append(pd.Series(['Target point']), ignore_index=True)\n",
    "colors = get_rgb(Points)"
   ]
  },
  {
   "cell_type": "code",
   "execution_count": null,
   "metadata": {},
   "outputs": [],
   "source": [
    "# Configure the trace.\n",
    "trace = go.Scatter3d(\n",
    "    x=Points[:,0],  # <-- Put your data instead\n",
    "    y=Points[:,1],  # <-- Put your data instead\n",
    "    z=Points[:,2],  # <-- Put your data instead\n",
    "    text=labels,\n",
    "    mode='markers',\n",
    "    marker={\n",
    "        'size': 5,\n",
    "        'opacity': 0.8,\n",
    "        'color': colors\n",
    "    }\n",
    ")"
   ]
  },
  {
   "cell_type": "code",
   "execution_count": null,
   "metadata": {},
   "outputs": [],
   "source": [
    "# Configure the layout.\n",
    "layout = go.Layout(margin={'l': 0, 'r': 0, 'b': 0, 't': 0},\n",
    "                   scene = dict(\n",
    "                       xaxis = dict(title='VENUE_COUNT'),\n",
    "                       yaxis = dict(title='USER_COUNT'),\n",
    "                       zaxis = dict(title='CATEGORY_AVG')\n",
    "                                )\n",
    "                  )\n",
    "\n",
    "data = [trace]\n",
    "\n",
    "plot_figure = go.Figure(data=data, layout=layout)\n",
    "# Render the plot.\n",
    "plotly.plotly.iplot(plot_figure, filename='jupyter-scatter3D-plot3')"
   ]
  },
  {
   "cell_type": "markdown",
   "metadata": {},
   "source": [
    "So, you should calibrate the weights in order to get a good choice ..."
   ]
  },
  {
   "cell_type": "markdown",
   "metadata": {},
   "source": [
    "### Now we can see in the map our predicted neighborhoods ..."
   ]
  },
  {
   "cell_type": "code",
   "execution_count": null,
   "metadata": {},
   "outputs": [],
   "source": [
    "address = 'New York City, NY'\n",
    "\n",
    "geolocator = Nominatim(user_agent=\"ny_explorer\")\n",
    "location = geolocator.geocode(address)\n",
    "latitude = location.latitude\n",
    "longitude = location.longitude\n",
    "print('The geograpical coordinate of New York City are {}, {}.'.format(latitude, longitude))"
   ]
  },
  {
   "cell_type": "code",
   "execution_count": null,
   "metadata": {},
   "outputs": [],
   "source": [
    "# create map\n",
    "map_venue = folium.Map(location=[latitude, longitude], zoom_start=10)"
   ]
  },
  {
   "cell_type": "code",
   "execution_count": null,
   "metadata": {},
   "outputs": [],
   "source": [
    "# add markers to the map\n",
    "Travis = neighborhoods.loc[neighborhoods['Neighborhood']=='Travis']\n",
    "Flatiron = neighborhoods.loc[neighborhoods['Neighborhood']=='Flatiron']\n",
    "Soho = neighborhoods.loc[neighborhoods['Neighborhood']=='Soho']\n",
    "frame=[Travis, Flatiron, Soho]\n",
    "markers = pd.concat(frame)\n",
    "markers"
   ]
  },
  {
   "cell_type": "code",
   "execution_count": null,
   "metadata": {},
   "outputs": [],
   "source": [
    "colors=['black', 'green', 'red']\n",
    "i=0\n",
    "\n",
    "for lat, lng, borough, neighborhood in zip(markers['Latitude'], markers['Longitude'], markers['Borough'], markers['Neighborhood']):\n",
    "    label = '{}, {}'.format(neighborhood, borough)\n",
    "    label = folium.Popup(label, parse_html=True)\n",
    "    folium.CircleMarker(\n",
    "    [lat, lng],\n",
    "    radius=5,\n",
    "    popup=label,\n",
    "    color=colors[i],\n",
    "    fill=True,\n",
    "    fill_color='#3186cc',\n",
    "    fill_opacity=0.7,\n",
    "    parse_html=False).add_to(map_venue)\n",
    "    i=i+1\n",
    "       \n",
    "map_venue"
   ]
  },
  {
   "cell_type": "markdown",
   "metadata": {},
   "source": [
    "#### The predictions are reasonable based of our variables. If you want no competition go to Travis, but how many people there wants a cup of coffee ? If you go to Flatiron or Soho, be prepared to work hard because a lot of people need a good coffee. In Flatiron, getting a space for your coffee shop may be a \"little bit\" expensive !!! In Soho, you should be prepared for a \"Coffee War\", because there are lots of good coffee shops (average ratings in neighborhood is 4.18 out of 5. Of course, you can try any type of venue with this model. See types in https://developers.google.com/places/web-service/supported_types."
   ]
  },
  {
   "cell_type": "code",
   "execution_count": null,
   "metadata": {},
   "outputs": [],
   "source": []
  }
 ],
 "metadata": {
  "kernelspec": {
   "display_name": "Python 3",
   "language": "python",
   "name": "python3"
  },
  "language_info": {
   "codemirror_mode": {
    "name": "ipython",
    "version": 3
   },
   "file_extension": ".py",
   "mimetype": "text/x-python",
   "name": "python",
   "nbconvert_exporter": "python",
   "pygments_lexer": "ipython3",
   "version": "3.6.8"
  }
 },
 "nbformat": 4,
 "nbformat_minor": 2
}
